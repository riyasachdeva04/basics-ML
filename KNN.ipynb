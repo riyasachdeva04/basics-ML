{
  "nbformat": 4,
  "nbformat_minor": 0,
  "metadata": {
    "colab": {
      "provenance": [],
      "authorship_tag": "ABX9TyMsaaXZHzaExNObXK7ekAV+",
      "include_colab_link": true
    },
    "kernelspec": {
      "name": "python3",
      "display_name": "Python 3"
    },
    "language_info": {
      "name": "python"
    }
  },
  "cells": [
    {
      "cell_type": "markdown",
      "metadata": {
        "id": "view-in-github",
        "colab_type": "text"
      },
      "source": [
        "<a href=\"https://colab.research.google.com/github/riyasachdeva04/basics-ML/blob/main/KNN.ipynb\" target=\"_parent\"><img src=\"https://colab.research.google.com/assets/colab-badge.svg\" alt=\"Open In Colab\"/></a>"
      ]
    },
    {
      "cell_type": "code",
      "source": [
        "import numpy as np\n",
        "from collections import Counter\n",
        "\n",
        "def euclidean_distance(x1, x2):\n",
        "    return np.sqrt(np.sum((x1 - x2) ** 2))\n",
        "\n",
        "class KNN:\n",
        "\n",
        "  def __init__(self, k=3):\n",
        "    self.k = k\n",
        "  \n",
        "\n",
        "  def fit(self, X, y):\n",
        "    self.X_train = X\n",
        "    self.y_train = y\n",
        "\n",
        "  def predict(self, X):\n",
        "    predicted_labels = [self._predict(x) for x in X]\n",
        "    return np.array(predicted_labels)\n",
        "\n",
        "  def _predict(self, x):\n",
        "    #compute distances\n",
        "    distances = [euclidean_distance(x, x_train) for x_train in self.X_train]\n",
        "\n",
        "    #get k nearest samples, labels\n",
        "    k_indices = np.argsort(distances)[:self.k]\n",
        "    k_nearest_labels = [self.y_train[i] for i in k_indices]\n",
        "\n",
        "    #majority vote, most common class label\n",
        "    most_common = Counter(k_nearest_labels).most_common(1)\n",
        "    return most_common[0][0]\n",
        "\n",
        "if __name__ == '__main__':\n",
        "  #imports\n",
        "  from matplotlib.colors import ListedColormap\n",
        "  from sklearn import datasets\n",
        "  from sklearn.model_selection import train_test_split\n",
        "\n",
        "  cmap = ListedColormap(['#FF0000', '#00FF00', '0000FF'])\n",
        "\n",
        "  def accuracy(y_true, y_pred):\n",
        "    acc = np.sum(y_true == y_pred)/len(y_true)\n",
        "    return acc\n",
        "    \n",
        "  iris = datasets.load_iris()\n",
        "  X, y = iris.data, iris.target\n",
        "\n",
        "  X_train, X_test, y_train, y_test = train_test_split(X, y, test_size = 0.3, random_state = 42)\n",
        "\n",
        "\n",
        "\n",
        "  k = 3\n",
        "  clf = KNN(k=k)\n",
        "  clf.fit(X_train, y_train)\n",
        "  predictions = clf.predict(X_test)\n",
        "  print(f\"KNN classifier accuracy = {accuracy(y_test, predictions)}\")"
      ],
      "metadata": {
        "colab": {
          "base_uri": "https://localhost:8080/"
        },
        "id": "QmIMpsZMQoeS",
        "outputId": "bc98b613-319a-47f4-fe92-038aa24dc784"
      },
      "execution_count": null,
      "outputs": [
        {
          "output_type": "stream",
          "name": "stdout",
          "text": [
            "KNN classifier accuracy = 1.0\n"
          ]
        }
      ]
    }
  ]
}