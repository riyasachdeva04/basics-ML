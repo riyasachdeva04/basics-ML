{
  "nbformat": 4,
  "nbformat_minor": 0,
  "metadata": {
    "colab": {
      "provenance": [],
      "authorship_tag": "ABX9TyPtipEesTMeFyg8CIDMXhGZ",
      "include_colab_link": true
    },
    "kernelspec": {
      "name": "python3",
      "display_name": "Python 3"
    },
    "language_info": {
      "name": "python"
    }
  },
  "cells": [
    {
      "cell_type": "markdown",
      "metadata": {
        "id": "view-in-github",
        "colab_type": "text"
      },
      "source": [
        "<a href=\"https://colab.research.google.com/github/riyasachdeva04/basics-ML/blob/main/decision_tree.ipynb\" target=\"_parent\"><img src=\"https://colab.research.google.com/assets/colab-badge.svg\" alt=\"Open In Colab\"/></a>"
      ]
    },
    {
      "cell_type": "code",
      "execution_count": 44,
      "metadata": {
        "id": "r4jsVg4dfyKq"
      },
      "outputs": [],
      "source": [
        "import numpy as np\n",
        "from collections import Counter\n",
        "\n",
        "def entropy(y):\n",
        "  hist = np.bincount(y)\n",
        "  ps = hist / len(y)\n",
        "  return -np.sum([p * np.log2(p) for p in ps if p > 0])\n",
        "\n",
        "\n",
        "class Node:\n",
        "  def __init__(self, feature = None, threshold = None, left = None, right = None, *, value = None):\n",
        "    self.feature = feature\n",
        "    self.threshold = threshold\n",
        "    self.left = left\n",
        "    self.right = right\n",
        "    self.value = value\n",
        "  \n",
        "  def is_leaf_node(self):\n",
        "    return self.value is not None\n",
        "  \n",
        "\n",
        "class DecisionTree:\n",
        "\n",
        "  def __init__(self, min_samples_split = 2, max_depth=100, n_feats = None):\n",
        "    self.min_samples_split = min_samples_split\n",
        "    self.max_depth = max_depth\n",
        "    self.n_feats = n_feats\n",
        "    self.root = None\n",
        "\n",
        "  def fit(self, X, y):\n",
        "    #grow tree\n",
        "    self.n_feats = X.shape[1] if not self.n_feats else min(self.n_feats, X.shape[1])\n",
        "    self.root = self._grow_tree(X, y)\n",
        "\n",
        "  def _grow_tree(self, X, y, depth = 0):\n",
        "    n_samples, n_features = X.shape\n",
        "    n_labels = len(np.unique(y))\n",
        "\n",
        "    #stopping criteria\n",
        "    if (depth >= self.max_depth or n_labels == 1 or n_samples < self.min_samples_split):\n",
        "      leaf_value = self._most_common_label(y)\n",
        "      return Node(value = leaf_value)\n",
        "\n",
        "    feature_indxs = np.random.choice(n_features, self.n_feats, replace = False)\n",
        "\n",
        "    #greedy search\n",
        "    best_feature, best_thresh = self._best_criteria(X, y, feature_indxs)\n",
        "    left_idxs, right_idxs = self._split(X[ :, best_feature], best_thresh)\n",
        "    left = self._grow_tree(X[left_idxs, :], y[left_idxs], depth + 1)\n",
        "    right = self._grow_tree(X[right_idxs, :], y[right_idxs], depth + 1)\n",
        "    return Node(best_feature, best_thresh, left, right)\n",
        "  \n",
        "\n",
        "  def _best_criteria(self, X, y, feature_indxs):\n",
        "    best_gain = -1\n",
        "    split_idx, split_thresh = None, None\n",
        "    for feat_idx in feature_indxs:\n",
        "      X_column = X[ :,feat_idx ]\n",
        "      thresholds = np.unique(X_column)\n",
        "      for threshold in thresholds:\n",
        "        gain = self._information_gain(y, X_column, threshold)\n",
        "\n",
        "        if gain > best_gain:\n",
        "          best_gain = gain\n",
        "          split_idx = feat_idx\n",
        "          split_thresh = threshold\n",
        "      \n",
        "    return split_idx, split_thresh\n",
        "\n",
        "  def _information_gain(self, y, X_column, split_thresh):\n",
        "    #parent entropy\n",
        "    parent_entropy = entropy(y)\n",
        "\n",
        "    #generate split\n",
        "    left_idxs, right_idxs = self._split(X_column, split_thresh)\n",
        "\n",
        "    if len(left_idxs) == 0 or len(right_idxs) == 0:\n",
        "      return 0\n",
        "\n",
        "    #weight avg child entropies\n",
        "    n = len(y)\n",
        "    n_l, n_r = len(left_idxs), len(right_idxs)\n",
        "    e_l, e_r = entropy(y[left_idxs]), entropy(y[right_idxs])\n",
        "    child_entropy = (n_l / n)*e_l + (n_r / n)*e_r\n",
        "\n",
        "    #return inf gain\n",
        "    inf_gain = parent_entropy - child_entropy\n",
        "    return inf_gain\n",
        "\n",
        "  def _split(self, X_column, split_thresh):\n",
        "    left_idxs = np.argwhere(X_column <= split_thresh).flatten()\n",
        "    right_idxs = np.argwhere(X_column > split_thresh).flatten()\n",
        "    return left_idxs, right_idxs\n",
        "\n",
        "  def predict(self, X):\n",
        "    #traverse tree\n",
        "    return np.array([self._traverse_tree(x, self.root) for x in X])\n",
        "\n",
        "  def _traverse_tree(self, x, node):\n",
        "    if node.is_leaf_node():\n",
        "      return node.value\n",
        "    if x[node.feature] <= node.threshold:\n",
        "      return self._traverse_tree(x, node.left)\n",
        "    return self._traverse_tree(x, node.right)\n",
        "\n",
        "  def _most_common_label(self, y):\n",
        "    counter = Counter(y)\n",
        "    most_common = counter.most_common(1)[0][0]\n",
        "    return most_common"
      ]
    },
    {
      "cell_type": "code",
      "source": [
        "if __name__ == \"__main__\":\n",
        "  from sklearn import datasets\n",
        "  from sklearn.model_selection import train_test_split\n",
        "\n",
        "  def accuracy(y_pred, y_true):\n",
        "    acc = np.sum(y_pred==y_true)/len(y_true)\n",
        "    return acc\n",
        "  \n",
        "  data = datasets.load_breast_cancer()\n",
        "  X, y = data.data, data.target\n",
        "\n",
        "  X_train, X_test, y_train, y_test = train_test_split(X, y, test_size = 0.3, random_state = 420)\n",
        "\n",
        "  clf = DecisionTree(max_depth = 100)\n",
        "  clf.fit(X_train, y_train)\n",
        "\n",
        "  y_ = clf.predict(X_test)\n",
        "  acc = accuracy(y_, y_test)\n",
        "\n",
        "  print(\"Accuracy = \", acc)"
      ],
      "metadata": {
        "colab": {
          "base_uri": "https://localhost:8080/"
        },
        "id": "G8yynJJ5mGwM",
        "outputId": "9740a63d-2943-4f4d-f529-f92b69d17c93"
      },
      "execution_count": 45,
      "outputs": [
        {
          "output_type": "stream",
          "name": "stdout",
          "text": [
            "Accuracy =  0.9298245614035088\n"
          ]
        }
      ]
    }
  ]
}